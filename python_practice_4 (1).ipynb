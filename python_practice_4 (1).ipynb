{
  "nbformat": 4,
  "nbformat_minor": 0,
  "metadata": {
    "colab": {
      "provenance": []
    },
    "kernelspec": {
      "name": "python3",
      "display_name": "Python 3"
    },
    "language_info": {
      "name": "python"
    }
  },
  "cells": [
    {
      "cell_type": "markdown",
      "source": [
        "# I. Functions. Arguments."
      ],
      "metadata": {
        "id": "kXpppdVm6wFy"
      }
    },
    {
      "cell_type": "markdown",
      "source": [
        "1. (5б) Назвіть основні 4 смислові  частини, з яких складається функція."
      ],
      "metadata": {
        "id": "u_krJdlbAkVz"
      }
    },
    {
      "cell_type": "markdown",
      "source": [
        "- Ім'я функції\n",
        "- Список аргументів\n",
        "- Тіло функції\n",
        "- Значення, що повертається"
      ],
      "metadata": {
        "id": "KKTrTXmHAptb"
      }
    },
    {
      "cell_type": "markdown",
      "source": [
        "2. (3б) Визначте функцію, що приймає 2 аргументи та повертає результат ділення 1го аргумента на інший."
      ],
      "metadata": {
        "id": "ORM4PqJQAtDM"
      }
    },
    {
      "cell_type": "code",
      "execution_count": 1,
      "metadata": {
        "id": "EuDx-z8M6sLo"
      },
      "outputs": [],
      "source": [
        "def divide_numbers(x, y):\n",
        "    result = x / y\n",
        "    return result"
      ]
    },
    {
      "cell_type": "markdown",
      "source": [
        "3. (2б) Викличте вище визначену функцію, де другий аргумент дорівнює 0."
      ],
      "metadata": {
        "id": "5joQGQ-SAyMe"
      }
    },
    {
      "cell_type": "code",
      "source": [
        "def divide_numbers(x, y):\n",
        "    result = x / y\n",
        "    return result\n",
        "\n",
        "divide_numbers(4, 0)"
      ],
      "metadata": {
        "id": "V5cBV1LOA3d-",
        "colab": {
          "base_uri": "https://localhost:8080/",
          "height": 297
        },
        "outputId": "d5fc97bc-b857-41c4-8b2c-f24d5f73a82b"
      },
      "execution_count": 2,
      "outputs": [
        {
          "output_type": "error",
          "ename": "ZeroDivisionError",
          "evalue": "division by zero",
          "traceback": [
            "\u001b[0;31m---------------------------------------------------------------------------\u001b[0m",
            "\u001b[0;31mZeroDivisionError\u001b[0m                         Traceback (most recent call last)",
            "\u001b[0;32m<ipython-input-2-6dfe0f078133>\u001b[0m in \u001b[0;36m<cell line: 5>\u001b[0;34m()\u001b[0m\n\u001b[1;32m      3\u001b[0m     \u001b[0;32mreturn\u001b[0m \u001b[0mresult\u001b[0m\u001b[0;34m\u001b[0m\u001b[0;34m\u001b[0m\u001b[0m\n\u001b[1;32m      4\u001b[0m \u001b[0;34m\u001b[0m\u001b[0m\n\u001b[0;32m----> 5\u001b[0;31m \u001b[0mdivide_numbers\u001b[0m\u001b[0;34m(\u001b[0m\u001b[0;36m4\u001b[0m\u001b[0;34m,\u001b[0m \u001b[0;36m0\u001b[0m\u001b[0;34m)\u001b[0m\u001b[0;34m\u001b[0m\u001b[0;34m\u001b[0m\u001b[0m\n\u001b[0m",
            "\u001b[0;32m<ipython-input-2-6dfe0f078133>\u001b[0m in \u001b[0;36mdivide_numbers\u001b[0;34m(x, y)\u001b[0m\n\u001b[1;32m      1\u001b[0m \u001b[0;32mdef\u001b[0m \u001b[0mdivide_numbers\u001b[0m\u001b[0;34m(\u001b[0m\u001b[0mx\u001b[0m\u001b[0;34m,\u001b[0m \u001b[0my\u001b[0m\u001b[0;34m)\u001b[0m\u001b[0;34m:\u001b[0m\u001b[0;34m\u001b[0m\u001b[0;34m\u001b[0m\u001b[0m\n\u001b[0;32m----> 2\u001b[0;31m     \u001b[0mresult\u001b[0m \u001b[0;34m=\u001b[0m \u001b[0mx\u001b[0m \u001b[0;34m/\u001b[0m \u001b[0my\u001b[0m\u001b[0;34m\u001b[0m\u001b[0;34m\u001b[0m\u001b[0m\n\u001b[0m\u001b[1;32m      3\u001b[0m     \u001b[0;32mreturn\u001b[0m \u001b[0mresult\u001b[0m\u001b[0;34m\u001b[0m\u001b[0;34m\u001b[0m\u001b[0m\n\u001b[1;32m      4\u001b[0m \u001b[0;34m\u001b[0m\u001b[0m\n\u001b[1;32m      5\u001b[0m \u001b[0mdivide_numbers\u001b[0m\u001b[0;34m(\u001b[0m\u001b[0;36m4\u001b[0m\u001b[0;34m,\u001b[0m \u001b[0;36m0\u001b[0m\u001b[0;34m)\u001b[0m\u001b[0;34m\u001b[0m\u001b[0;34m\u001b[0m\u001b[0m\n",
            "\u001b[0;31mZeroDivisionError\u001b[0m: division by zero"
          ]
        }
      ]
    },
    {
      "cell_type": "markdown",
      "source": [
        "4. (4б) Перевизначте функцію так, щоби у випадку ділення на 0 функція повертала None, а в решті випадків - результат розрахунків."
      ],
      "metadata": {
        "id": "QyimWgW8A43-"
      }
    },
    {
      "cell_type": "code",
      "source": [
        "def divide_numbers(x, y):\n",
        "    if y != 0:\n",
        "        result = x / y\n",
        "        return result\n",
        "    else:\n",
        "        return None\n",
        "\n",
        "divide_numbers(4, 0)"
      ],
      "metadata": {
        "id": "7VIODtSjA8Ek"
      },
      "execution_count": 3,
      "outputs": []
    },
    {
      "cell_type": "markdown",
      "source": [
        "5. (5б) Визначте функцію, що віднімає одне число від іншого (підказка: це буде 2 аргументи функції). При чому, якщо не визначити, скільки саме має бути віднято від числа, за замовчуванням має відніматися 1. Викличте функцію, передаючи тільки один аргумент."
      ],
      "metadata": {
        "id": "Y8mN0GfkA81l"
      }
    },
    {
      "cell_type": "code",
      "source": [
        "def subtract(x, y=1):\n",
        "    return x - y\n",
        "\n",
        "result = subtract(10)\n",
        "print(result)"
      ],
      "metadata": {
        "id": "vg1kxkdgBA50",
        "colab": {
          "base_uri": "https://localhost:8080/"
        },
        "outputId": "5795e215-4ee3-49c5-d82b-f472e93c1f07"
      },
      "execution_count": 4,
      "outputs": [
        {
          "output_type": "stream",
          "name": "stdout",
          "text": [
            "9\n"
          ]
        }
      ]
    },
    {
      "cell_type": "markdown",
      "source": [
        "6. (7б) Визначте функцію, яка приймає iterable (ітерабельний обʼєкт, напр. список), що складається з 7ми рядкових значень - назв погодних умов (напр. \"sunny\") за кожен день у тижні. Повертає функція словник, де ключами є рядки з погодними умовами, а значеннями - кількість разів, скільки дана погода була протягом тижня (напр. {'sunny': 1, ...}). Викличте цю функцію та виведіть результат її роботи на екран."
      ],
      "metadata": {
        "id": "D3mwQGNOBBs4"
      }
    },
    {
      "cell_type": "code",
      "source": [
        "def count_weather_conditions(weather):\n",
        "    counts = {}\n",
        "    for condition in weather:\n",
        "        if condition in counts:\n",
        "            counts[condition] += 1\n",
        "        else:\n",
        "            counts[condition] = 1\n",
        "    return counts\n",
        "\n",
        "input = ['sunny', 'rainy', 'cloudy', 'sunny', 'sunny', 'rainy', 'cloudy']\n",
        "\n",
        "result = count_weather_conditions(input)\n",
        "print(result)"
      ],
      "metadata": {
        "id": "OsWm-hKcBFyn",
        "colab": {
          "base_uri": "https://localhost:8080/"
        },
        "outputId": "0f60ac3b-4498-4ef6-c6a8-94a39421bbff"
      },
      "execution_count": 5,
      "outputs": [
        {
          "output_type": "stream",
          "name": "stdout",
          "text": [
            "{'sunny': 3, 'rainy': 2, 'cloudy': 2}\n"
          ]
        }
      ]
    },
    {
      "cell_type": "markdown",
      "source": [
        "7. (15б) Напишіть програму, яка б шукала необхідне число у впорядкованому списку цілочислених значень, де\n",
        "число має вводитись з консолі.\n",
        "власне алгоритм пошуку винесений в окрему функцію, яка повертає булеве значення (знайдено число - True, не знайдено - False).\n",
        "в залежності від результату функції, виведіть на екран повідомлення про успішний або ж неуспішний пошук.\n",
        "Зауваження: використовувати оператор in заборонено."
      ],
      "metadata": {
        "id": "RMiCcdOsBKQT"
      }
    },
    {
      "cell_type": "code",
      "source": [
        "def binary_search(target, sorted_list):\n",
        "    left, right = 0, len(sorted_list) - 1\n",
        "\n",
        "    while left <= right:\n",
        "        mid = (left + right) // 2\n",
        "        mid_value = sorted_list[mid]\n",
        "\n",
        "        if mid_value == target:\n",
        "            return True\n",
        "        elif mid_value < target:\n",
        "            left = mid + 1\n",
        "        else:\n",
        "            right = mid - 1\n",
        "\n",
        "    return False\n",
        "\n",
        "ordered_numbers = [1, 3, 5, 7, 9, 11, 13, 15, 17, 19]\n",
        "target_number = int(input(\"Введіть число для пошуку: \"))\n",
        "if binary_search(target_number, ordered_numbers):\n",
        "    print(f\"Число {target_number} знайдено в списку.\")\n",
        "else:\n",
        "    print(f\"Число {target_number} не знайдено в списку.\")"
      ],
      "metadata": {
        "id": "UNCZg65OBOy-",
        "colab": {
          "base_uri": "https://localhost:8080/"
        },
        "outputId": "f8e81c3d-440d-4c78-a9bb-422d6241e986"
      },
      "execution_count": 2,
      "outputs": [
        {
          "output_type": "stream",
          "name": "stdout",
          "text": [
            "Введіть число для пошуку: -1\n",
            "Число -1 не знайдено в списку.\n"
          ]
        }
      ]
    },
    {
      "cell_type": "markdown",
      "source": [
        "# II. Lambda functions."
      ],
      "metadata": {
        "id": "Ae1n_OvLBTsy"
      }
    },
    {
      "cell_type": "markdown",
      "source": [
        "8. (4б) В яких випадках варто використовувати лямбда-функції?"
      ],
      "metadata": {
        "id": "xaD_wSlaCWen"
      }
    },
    {
      "cell_type": "markdown",
      "source": [
        "Лямбда-функції потрібно використовувати для передачі у функції вищих порядків (map, filter)"
      ],
      "metadata": {
        "id": "42MB6OoLCakR"
      }
    },
    {
      "cell_type": "markdown",
      "source": [
        "9. (9б) Визначте список з рядками. Після цього визначте анонімну функцію для отримання першого символу у верхньому регістрі для кожного рядка списку.\n",
        "Підказка: використовуйте анонімну функцію в якості агрумента до вбудованої ф-ції, яка створена для застосування функцій над iterable обʼєктами. Результат виведіть на екран у вигляді кортежу."
      ],
      "metadata": {
        "id": "USrzrk7GCedk"
      }
    },
    {
      "cell_type": "code",
      "source": [
        "list1 = ['apple', 'banana', 'cherry']\n",
        "res = tuple(map(lambda x: x[0].upper(), list1))\n",
        "print(res)"
      ],
      "metadata": {
        "id": "M8QWUsMlCjWH",
        "colab": {
          "base_uri": "https://localhost:8080/"
        },
        "outputId": "48beecdd-02cc-4273-ec78-ff8010de49f9"
      },
      "execution_count": 3,
      "outputs": [
        {
          "output_type": "stream",
          "name": "stdout",
          "text": [
            "('A', 'B', 'C')\n"
          ]
        }
      ]
    },
    {
      "cell_type": "markdown",
      "source": [
        "10. (10б) Визначте список з числовими значеннями (і цілими, і з рухомою комою). а) Відфільтруйте всі числа, які діляться націло на 3 за допомогою вбудованої функції та анонімної функції в якості аргумента). Збережіть результат у змінній, не приводяти явно до будь-якого типу. б) Використовуючи результат на кроці 12.а у якості аргументу, та за допомогою лямбда-функції в якості іншого аргументу до вбудованої функції, додайте до кожного елементу число 1 та опісля зведіть у квадрат. Остаточний результат приведіть явно до списку та виведіть на екран."
      ],
      "metadata": {
        "id": "9fyUhXOoCtGp"
      }
    },
    {
      "cell_type": "code",
      "source": [
        "numbers_list = [1, 3, 6, 9, 12, 15, 18, 21, 24]\n",
        "filtered = filter(lambda x: x % 3 == 0, numbers_list)\n",
        "\n",
        "res = list(map(lambda x: (x + 1)**2, filtered))\n",
        "print(res)"
      ],
      "metadata": {
        "id": "exEx2_okCsql",
        "colab": {
          "base_uri": "https://localhost:8080/"
        },
        "outputId": "538f9a3c-270c-43ee-c99d-18ca059eda74"
      },
      "execution_count": 4,
      "outputs": [
        {
          "output_type": "stream",
          "name": "stdout",
          "text": [
            "[16, 49, 100, 169, 256, 361, 484, 625]\n"
          ]
        }
      ]
    },
    {
      "cell_type": "markdown",
      "source": [
        "# III. Decorators."
      ],
      "metadata": {
        "id": "o_x8cG_WC7jp"
      }
    },
    {
      "cell_type": "markdown",
      "source": [
        "11. (11б) Визначте декоратор, який би виводив у консоль повідомлення про початок роботи і назву функції (напр. my_function._ _ name _ _), а після відпрацювання функції - повідомлення про закінчення роботи і назву функції, що задекорована."
      ],
      "metadata": {
        "id": "mhxS4-mfC8LQ"
      }
    },
    {
      "cell_type": "code",
      "source": [
        "def my_decorator(func):\n",
        "    def wrapper(*args, **kwargs):\n",
        "        print(f\"Початок роботи функції {func.__name__}\")\n",
        "        result = func(*args, **kwargs)\n",
        "        print(f\"Закінчення роботи функції {func.__name__}\")\n",
        "        return result\n",
        "    return wrapper"
      ],
      "metadata": {
        "id": "srd1ygWjDGhO",
        "colab": {
          "base_uri": "https://localhost:8080/"
        },
        "outputId": "c9161378-21bd-4566-aa89-6cb3cacc284a"
      },
      "execution_count": 5,
      "outputs": [
        {
          "output_type": "stream",
          "name": "stdout",
          "text": [
            "Початок роботи функції example_function\n",
            "Це приклад функції.\n",
            "Закінчення роботи функції example_function\n"
          ]
        }
      ]
    },
    {
      "cell_type": "markdown",
      "source": [
        "12. (4б) Задекоруйте двома різними способами функції з завдання 4 та 5 декоратором із завдання 11. (**УВАГА**: не декоруйте функції двічі!)."
      ],
      "metadata": {
        "id": "rxGZwVBiDph3"
      }
    },
    {
      "cell_type": "code",
      "source": [
        "def my_decorator(func):\n",
        "    def wrapper(*args, **kwargs):\n",
        "        print(f\"Початок роботи функції {func.__name__}\")\n",
        "        result = func(*args, **kwargs)\n",
        "        print(f\"Закінчення роботи функції {func.__name__}\")\n",
        "        return result\n",
        "    return wrapper\n",
        "\n",
        "@my_decorator\n",
        "def subtract(x, y=1):\n",
        "    return x - y\n",
        "\n",
        "def divide_numbers(x, y):\n",
        "    if y != 0:\n",
        "        result = x / y\n",
        "        return result\n",
        "    else:\n",
        "        return None\n",
        "divide_numbers = my_decorator(divide_numbers)\n",
        ""
      ],
      "metadata": {
        "id": "06lj7eq_DwZe",
        "colab": {
          "base_uri": "https://localhost:8080/"
        },
        "outputId": "e2b05d62-fbf8-467f-e369-9dbcc514cb48"
      },
      "execution_count": 6,
      "outputs": [
        {
          "output_type": "stream",
          "name": "stdout",
          "text": [
            "Початок роботи функції divide_numbers\n",
            "Закінчення роботи функції divide_numbers\n"
          ]
        },
        {
          "output_type": "execute_result",
          "data": {
            "text/plain": [
              "2.0"
            ]
          },
          "metadata": {},
          "execution_count": 6
        }
      ]
    },
    {
      "cell_type": "markdown",
      "source": [
        "13. (2б) Викличте одну з задекорованих функцій і виведіть її результат на екран."
      ],
      "metadata": {
        "id": "P0ep1urBDzf-"
      }
    },
    {
      "cell_type": "code",
      "source": [
        "def my_decorator(func):\n",
        "    def wrapper(*args, **kwargs):\n",
        "        print(f\"Початок роботи функції {func.__name__}\")\n",
        "        result = func(*args, **kwargs)\n",
        "        print(f\"Закінчення роботи функції {func.__name__}\")\n",
        "        return result\n",
        "    return wrapper\n",
        "\n",
        "@my_decorator\n",
        "def subtract(x, y=1):\n",
        "    return x - y\n",
        "\n",
        "print(subtract(5))"
      ],
      "metadata": {
        "id": "1QvTw0ctD0S3",
        "colab": {
          "base_uri": "https://localhost:8080/"
        },
        "outputId": "7d05a156-43f4-42c3-ecba-dcf42114e9a2"
      },
      "execution_count": 7,
      "outputs": [
        {
          "output_type": "stream",
          "name": "stdout",
          "text": [
            "Початок роботи функції subtract\n",
            "Закінчення роботи функції subtract\n",
            "4\n"
          ]
        }
      ]
    },
    {
      "cell_type": "markdown",
      "source": [
        "# IV. Recursion."
      ],
      "metadata": {
        "id": "poECCpuoD2S9"
      }
    },
    {
      "cell_type": "markdown",
      "source": [
        "14. (4б) Назвіть дві частини функції, які є обовʼязковими для того, щоб називати її рекурсивною."
      ],
      "metadata": {
        "id": "DqkURfdsD7MY"
      }
    },
    {
      "cell_type": "markdown",
      "source": [
        "Виклик функції самої себе та Базовий випадок для завершення рекурсії"
      ],
      "metadata": {
        "id": "HYW6ttIeIQIU"
      }
    },
    {
      "cell_type": "markdown",
      "source": [
        "15. (15б) Визначте функцію, яка рекурсивно реалізовує пошук числа у послідовності Фібоначчі за її індексом (нумерація починається з нуля). Наприклад, потрібно знайти перше число у послідовності, тоді функція прийматиме 0 у якості аргумента і повертатиме 1, якщо ж знаходити третє число (індекс 2) послідовності, то функція повертатиме 2, якщо ж знаходити десяте число (індекс 9), то функція повертатиме 55."
      ],
      "metadata": {
        "id": "WYVt20UmEA35"
      }
    },
    {
      "cell_type": "code",
      "source": [
        "def fibonacci(index):\n",
        "    if index == 0 or index == 1:\n",
        "        return 1\n",
        "    else:\n",
        "        return fibonacci(index - 1) + fibonacci(index - 2)\n",
        "\n",
        "result = fibonacci(2)\n",
        "print(result)"
      ],
      "metadata": {
        "id": "xIMhp05AIpV_",
        "colab": {
          "base_uri": "https://localhost:8080/"
        },
        "outputId": "80957cbd-f0fc-41f4-cafb-8530642c6e84"
      },
      "execution_count": 10,
      "outputs": [
        {
          "output_type": "stream",
          "name": "stdout",
          "text": [
            "2\n"
          ]
        }
      ]
    },
    {
      "cell_type": "markdown",
      "source": [
        "# Вітаю! Ви велика(ий) молодець, що впоралась(вся). Похваліть себе та побалуйте чимось приємним. Я Вами пишаюся."
      ],
      "metadata": {
        "id": "ytXC8n_4Ip0W"
      }
    }
  ]
}