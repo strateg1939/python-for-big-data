{
  "nbformat": 4,
  "nbformat_minor": 0,
  "metadata": {
    "colab": {
      "provenance": []
    },
    "kernelspec": {
      "name": "python3",
      "display_name": "Python 3"
    },
    "language_info": {
      "name": "python"
    }
  },
  "cells": [
    {
      "cell_type": "markdown",
      "source": [
        "# I. OOP"
      ],
      "metadata": {
        "id": "5qV_sehzFCTp"
      }
    },
    {
      "cell_type": "markdown",
      "source": [
        "1. (6б). Створіть клас Animal, додайте три атрибути, один з яких має значення за замовчуванням та два методи на свій розсуд."
      ],
      "metadata": {
        "id": "tx_U_hOALyfg"
      }
    },
    {
      "cell_type": "code",
      "source": [
        "class Animal:\n",
        "    def __init__(self, name, sound, age=1):\n",
        "        self.name = name\n",
        "        self.age = age\n",
        "        self.sound = sound\n",
        "\n",
        "    def make_sound(self):\n",
        "        if self.sound:\n",
        "            return f\"{self.name} says {self.sound}!\"\n",
        "        else:\n",
        "            return f\"{self.name} is silent.\"\n",
        "\n",
        "    def birthday(self):\n",
        "        self.age += 1\n",
        "        return f\"{self.name} is now {self.age} years old.\"\n",
        "\n"
      ],
      "metadata": {
        "id": "-Vf895KaL88N"
      },
      "execution_count": null,
      "outputs": []
    },
    {
      "cell_type": "markdown",
      "source": [
        "2. (2б). Створіть два обʼєкти цього класу, де один з обʼєктів створюється із дефолтним значенням атрибуту. На одному обʼєкті отримайте значення його атрибуту, а на іншому викличте один з його методів."
      ],
      "metadata": {
        "id": "X_UlOMB0L93w"
      }
    },
    {
      "cell_type": "code",
      "source": [
        "class Animal:\n",
        "    def __init__(self, name, sound, age=1):\n",
        "        self.name = name\n",
        "        self.age = age\n",
        "        self.sound = sound\n",
        "\n",
        "    def make_sound(self):\n",
        "        if self.sound:\n",
        "            return f\"{self.name} says {self.sound}!\"\n",
        "        else:\n",
        "            return f\"{self.name} is silent.\"\n",
        "\n",
        "    def birthday(self):\n",
        "        self.age += 1\n",
        "        return f\"{self.name} is now {self.age} years old.\"\n",
        "\n",
        "\n",
        "animal1 = Animal(\"Dog\", sound=\"Woof\")\n",
        "animal2 = Animal(\"Cat\", age=3, sound=\"Meow\")\n",
        "\n",
        "print(f\"{animal1.name} is {animal1.age} years old\")\n",
        "\n",
        "# Виклик методу для іншого об'єкта\n",
        "print(animal2.make_sound())"
      ],
      "metadata": {
        "id": "7gBu0ESOMCpG",
        "colab": {
          "base_uri": "https://localhost:8080/"
        },
        "outputId": "834d28cf-7409-4a60-d075-8b7d559ee384"
      },
      "execution_count": 2,
      "outputs": [
        {
          "output_type": "stream",
          "name": "stdout",
          "text": [
            "Dog is 1 years old\n",
            "Cat says Meow!\n"
          ]
        }
      ]
    },
    {
      "cell_type": "markdown",
      "source": [
        "3. (5б). Створіть клас, де атрибути мають різні рівні доступу. Спробуйте отримати їхні значення та опишіть результати."
      ],
      "metadata": {
        "id": "HoqSCZt1MHn5"
      }
    },
    {
      "cell_type": "code",
      "source": [
        "class MyClass:\n",
        "    def __init__(self):\n",
        "        self.public_attribute = \"I am a public attribute\"\n",
        "        self._protected_attribute = \"I am a protected attribute\"\n",
        "        self.__private_attribute = \"I am a private attribute\"\n",
        "\n",
        "\n",
        "my_object = MyClass()\n",
        "# Є доступ до Public і Protected аттрибута\n",
        "print(\"Public Attribute:\", my_object.public_attribute)\n",
        "print(\"Protected Attribute:\", my_object._protected_attribute)\n",
        "\n",
        "# Помилка при доступі до приватного\n",
        "print(\"Private Attribute:\", my_object.__private_attribute)"
      ],
      "metadata": {
        "id": "r9b3vJxBMSPV",
        "colab": {
          "base_uri": "https://localhost:8080/",
          "height": 211
        },
        "outputId": "863c7d56-a97f-4aca-cbf4-0f9cc7910d91"
      },
      "execution_count": 4,
      "outputs": [
        {
          "output_type": "stream",
          "name": "stdout",
          "text": [
            "Public Attribute: I am a public attribute\n",
            "Protected Attribute: I am a protected attribute\n"
          ]
        },
        {
          "output_type": "error",
          "ename": "AttributeError",
          "evalue": "'MyClass' object has no attribute '__private_attribute'",
          "traceback": [
            "\u001b[0;31m---------------------------------------------------------------------------\u001b[0m",
            "\u001b[0;31mAttributeError\u001b[0m                            Traceback (most recent call last)",
            "\u001b[0;32m<ipython-input-4-bfcb32bc2335>\u001b[0m in \u001b[0;36m<cell line: 14>\u001b[0;34m()\u001b[0m\n\u001b[1;32m     12\u001b[0m \u001b[0;34m\u001b[0m\u001b[0m\n\u001b[1;32m     13\u001b[0m \u001b[0;31m# Помилка при доступі до приватного\u001b[0m\u001b[0;34m\u001b[0m\u001b[0;34m\u001b[0m\u001b[0m\n\u001b[0;32m---> 14\u001b[0;31m \u001b[0mprint\u001b[0m\u001b[0;34m(\u001b[0m\u001b[0;34m\"Private Attribute:\"\u001b[0m\u001b[0;34m,\u001b[0m \u001b[0mmy_object\u001b[0m\u001b[0;34m.\u001b[0m\u001b[0m__private_attribute\u001b[0m\u001b[0;34m)\u001b[0m\u001b[0;34m\u001b[0m\u001b[0;34m\u001b[0m\u001b[0m\n\u001b[0m",
            "\u001b[0;31mAttributeError\u001b[0m: 'MyClass' object has no attribute '__private_attribute'"
          ]
        }
      ]
    },
    {
      "cell_type": "markdown",
      "source": [
        "4. (7б). Як ви розумієте термін self? Для чого використовується метод __init __?"
      ],
      "metadata": {
        "id": "5op2m2vgMSkZ"
      }
    },
    {
      "cell_type": "markdown",
      "source": [
        "Термін self в Python вказує на екземпляр класу, на якому викликається метод. Визначення методів класу повинно включати параметр self як перший параметр, щоб вони могли отримати доступ до атрибутів та методів самого об'єкта.\n",
        "\n",
        "Метод __init__ є конструктором класу в Python. Він викликається автоматично при створенні нового об'єкта класу. Основна його задача - ініціалізувати атрибути об'єкта, задавати їм початкові значення. У методі __init__ можна визначити атрибути класу та встановити їхні значення відповідно до переданих аргументів."
      ],
      "metadata": {
        "id": "DyiPqNRvMasx"
      }
    },
    {
      "cell_type": "markdown",
      "source": [
        "5. (9б). Створіть клас Фігура без атрибутів, з методом get_area для отримання площі фігури, що повертає 0 та __add __, який приймає self та other в якості аргументів, а повертає суму площин фігур self та other."
      ],
      "metadata": {
        "id": "-6X8EGfjMd2y"
      }
    },
    {
      "cell_type": "code",
      "source": [
        "class Figure:\n",
        "    def get_area(self):\n",
        "        return 0\n",
        "\n",
        "    def __add__(self, other):\n",
        "        if isinstance(other, Figure):\n",
        "            total_area = self.get_area() + other.get_area()\n",
        "            return total_area\n",
        "        else:\n",
        "            return NotImplemented"
      ],
      "metadata": {
        "id": "4rvO_wYUMaEr"
      },
      "execution_count": null,
      "outputs": []
    },
    {
      "cell_type": "markdown",
      "source": [
        "6. (11б). Створіть 2 дочірніх класи від Фігури: Трикутник та Коло, які мають атрибути, необхідні для розрахунку площин. Визначте метод get_area в кожному з них так, щоби вони розраховували площу в залежності від формули для кожного типу фігури. Створіть обʼєкт класу Трикутник та обʼєкт класу Коло. Виконайте операцію суми за допомогою оператора + між ними."
      ],
      "metadata": {
        "id": "SFcKnnv5Mo_z"
      }
    },
    {
      "cell_type": "code",
      "source": [
        "import math\n",
        "\n",
        "class Figure:\n",
        "    def get_area(self):\n",
        "        return 0\n",
        "\n",
        "    def __add__(self, other):\n",
        "        if isinstance(other, Figure):\n",
        "            total_area = self.get_area() + other.get_area()\n",
        "            return total_area\n",
        "        else:\n",
        "            return NotImplemented\n",
        "\n",
        "class Triangle(Figure):\n",
        "    def __init__(self, base, height):\n",
        "        self.base = base\n",
        "        self.height = height\n",
        "\n",
        "    def get_area(self):\n",
        "        return 0.5 * self.base * self.height\n",
        "\n",
        "class Circle(Figure):\n",
        "    def __init__(self, radius):\n",
        "        self.radius = radius\n",
        "\n",
        "    def get_area(self):\n",
        "        return math.pi * self.radius**2\n",
        "\n",
        "triangle = Triangle(base=5, height=8)\n",
        "circle = Circle(radius=3)\n",
        "\n",
        "total_area = triangle + circle\n",
        "print(\"Total Area:\", total_area)"
      ],
      "metadata": {
        "id": "H3GVNr69Muf3",
        "colab": {
          "base_uri": "https://localhost:8080/"
        },
        "outputId": "58b81a08-60d6-433d-b41a-f838e9199b6b"
      },
      "execution_count": 5,
      "outputs": [
        {
          "output_type": "stream",
          "name": "stdout",
          "text": [
            "Total Area: 48.27433388230814\n"
          ]
        }
      ]
    },
    {
      "cell_type": "markdown",
      "source": [
        "7. (3б). Продемонструйте різницю між isinstance та issubclass."
      ],
      "metadata": {
        "id": "HCvR206YMvLK"
      }
    },
    {
      "cell_type": "code",
      "source": [
        "class A:\n",
        "    pass\n",
        "\n",
        "obj = A()\n",
        "is_instance = isinstance(obj, A)\n",
        "\n",
        "class B(A):\n",
        "    pass\n",
        "\n",
        "is_subclass = issubclass(B, A)"
      ],
      "metadata": {
        "id": "L_V1bBvDM0GN"
      },
      "execution_count": null,
      "outputs": []
    },
    {
      "cell_type": "markdown",
      "source": [
        "8. (13б). Створіть клас BankAccount з приватними атрибутами balance та account_number. Реалізуйте методи поповнення та зняття коштів, забезпечивши належну інкапсуляцію. Підказка: використовуйте декоратори property та setter."
      ],
      "metadata": {
        "id": "jjsaBZ-iM0Qq"
      }
    },
    {
      "cell_type": "code",
      "source": [
        "class BankAccount:\n",
        "    def __init__(self, initial_balance, account_number):\n",
        "        self.__balance = initial_balance-\n",
        "        self.__account_number = account_number-\n",
        "\n",
        "    def deposit(self, amount):\n",
        "        if amount > 0:\n",
        "            self.__balance += amount\n",
        "        else:\n",
        "            print(\"Invalid deposit amount. Please enter a positive value.\")\n",
        "\n",
        "    def withdraw(self, amount):\n",
        "        if amount > 0 and amount <= self.__balance:\n",
        "            self.__balance -= amount\n",
        "        elif amount <= 0:\n",
        "            print(\"Invalid withdrawal amount. Please enter a positive value.\")\n",
        "        else:\n",
        "            print(\"Insufficient funds. Cannot withdraw.\")\n",
        "\n",
        "    def get_balance(self):\n",
        "        return self.__balance\n",
        "\n",
        "    def get_account_number(self):\n",
        "        return self.__account_number"
      ],
      "metadata": {
        "id": "xCvZ7lh8M7YA"
      },
      "execution_count": null,
      "outputs": []
    },
    {
      "cell_type": "markdown",
      "source": [
        "9. (11б). Створіть клас Library, який містить список об'єктів типу Book. Реалізуйте методи для додавання книги, видалення книги та відображення списку книг."
      ],
      "metadata": {
        "id": "tIzL2SJTM8ft"
      }
    },
    {
      "cell_type": "code",
      "source": [
        "class Book:\n",
        "    def __init__(self, title, author):\n",
        "        self.title = title\n",
        "        self.author = author\n",
        "\n",
        "class Library:\n",
        "    def __init__(self):\n",
        "        self.books = []\n",
        "\n",
        "    def add_book(self, title, author):\n",
        "        new_book = Book(title, author)\n",
        "        self.books.append(new_book)\n",
        "\n",
        "    def remove_book(self, title):\n",
        "        for book in self.books:\n",
        "            if book.title == title:\n",
        "                self.books.remove(book)\n",
        "                return\n",
        "\n",
        "    def display_books(self):\n",
        "        if not self.books:\n",
        "            print(\"The library is empty.\")\n",
        "        else:\n",
        "            print(\"Books in the library:\")\n",
        "            for book in self.books:\n",
        "                print(f\"{book.title} by {book.author}\")\n",
        "library = Library()\n",
        "\n",
        "library.add_book(\"The Great Gatsby\", \"F. Scott Fitzgerald\")\n",
        "library.add_book(\"To Kill a Mockingbird\", \"Harper Lee\")\n",
        "\n",
        "library.display_books()\n"
      ],
      "metadata": {
        "id": "HWxfJKLtNAUZ",
        "colab": {
          "base_uri": "https://localhost:8080/"
        },
        "outputId": "dfd5f69c-2ed6-457a-b712-6a6d05247e8d"
      },
      "execution_count": 6,
      "outputs": [
        {
          "output_type": "stream",
          "name": "stdout",
          "text": [
            "Books in the library:\n",
            "The Great Gatsby by F. Scott Fitzgerald\n",
            "To Kill a Mockingbird by Harper Lee\n"
          ]
        }
      ]
    },
    {
      "cell_type": "markdown",
      "source": [
        "10. (13б). Створіть клас Person з атрибутами name та age. Створіть ще один клас Employee з такими атрибутами, як department та salary. Створіть клас Manager, який успадковує обидва класи Person та Employee. Продемонструйте використання множинної спадковості, створивши обʼєкт класу Manager та отримавши mro для цього класу."
      ],
      "metadata": {
        "id": "lmV8pAwwNIqu"
      }
    },
    {
      "cell_type": "code",
      "source": [
        "class Person:\n",
        "    def __init__(self, name, age):\n",
        "        self.name = name\n",
        "        self.age = age\n",
        "\n",
        "class Employee:\n",
        "    def __init__(self, department, salary):\n",
        "        self.department = department\n",
        "        self.salary = salary\n",
        "\n",
        "class Manager(Person, Employee):\n",
        "    def __init__(self, name, age, department, salary):\n",
        "        Person.__init__(self, name, age)\n",
        "        Employee.__init__(self, department, salary)\n",
        "\n",
        "manager = Manager(name=\"John Doe\", age=35, department=\"IT\", salary=75000)\n",
        "\n",
        "\n",
        "print(\"MRO:\", Manager.mro())"
      ],
      "metadata": {
        "id": "R49grKlWNPeN",
        "colab": {
          "base_uri": "https://localhost:8080/"
        },
        "outputId": "db893bd9-7fd1-4998-e822-000a8b68bb84"
      },
      "execution_count": 7,
      "outputs": [
        {
          "output_type": "stream",
          "name": "stdout",
          "text": [
            "MRO: [<class '__main__.Manager'>, <class '__main__.Person'>, <class '__main__.Employee'>, <class 'object'>]\n"
          ]
        }
      ]
    },
    {
      "cell_type": "markdown",
      "source": [
        "# II. Iterator"
      ],
      "metadata": {
        "id": "dIJyUiNBFG8G"
      }
    },
    {
      "cell_type": "markdown",
      "source": [
        "11. (4б). Визначте рядок(str) з 4ма різними за значенням символами. Створіть ітератор на основі цього рядка. Викличте 5 разів функцію next на ітераторі, 4ри перших з них огорніть у ф-цію print()."
      ],
      "metadata": {
        "id": "13vsm0NyKIzL"
      }
    },
    {
      "cell_type": "code",
      "source": [
        "my_string = \"abcd\"\n",
        "\n",
        "my_iterator = iter(my_string)\n",
        "\n",
        "for i in range(5):\n",
        "    if(i < 4):\n",
        "      char = next(my_iterator)\n",
        "      print(char)"
      ],
      "metadata": {
        "id": "81ntabAkKuz-",
        "colab": {
          "base_uri": "https://localhost:8080/"
        },
        "outputId": "ba9fb4b6-39c0-469c-c4ec-c4e37a7b2066"
      },
      "execution_count": 10,
      "outputs": [
        {
          "output_type": "stream",
          "name": "stdout",
          "text": [
            "a\n",
            "b\n",
            "c\n",
            "d\n"
          ]
        }
      ]
    },
    {
      "cell_type": "markdown",
      "source": [
        "А що якщо викликати цю ж функцію на рядку?"
      ],
      "metadata": {
        "id": "aekWHGXOLRsO"
      }
    },
    {
      "cell_type": "code",
      "source": [
        "my_string = \"abcd\"\n",
        "print(my_string.next())"
      ],
      "metadata": {
        "id": "mxATGsErLV1i",
        "colab": {
          "base_uri": "https://localhost:8080/",
          "height": 159
        },
        "outputId": "dda28b55-a3b2-4e16-e8d1-066f99dc365f"
      },
      "execution_count": 11,
      "outputs": [
        {
          "output_type": "error",
          "ename": "AttributeError",
          "evalue": "'str' object has no attribute 'next'",
          "traceback": [
            "\u001b[0;31m---------------------------------------------------------------------------\u001b[0m",
            "\u001b[0;31mAttributeError\u001b[0m                            Traceback (most recent call last)",
            "\u001b[0;32m<ipython-input-11-91f3aa5bcc5a>\u001b[0m in \u001b[0;36m<cell line: 2>\u001b[0;34m()\u001b[0m\n\u001b[1;32m      1\u001b[0m \u001b[0mmy_string\u001b[0m \u001b[0;34m=\u001b[0m \u001b[0;34m\"abcd\"\u001b[0m\u001b[0;34m\u001b[0m\u001b[0;34m\u001b[0m\u001b[0m\n\u001b[0;32m----> 2\u001b[0;31m \u001b[0mprint\u001b[0m\u001b[0;34m(\u001b[0m\u001b[0mmy_string\u001b[0m\u001b[0;34m.\u001b[0m\u001b[0mnext\u001b[0m\u001b[0;34m(\u001b[0m\u001b[0;34m)\u001b[0m\u001b[0;34m)\u001b[0m\u001b[0;34m\u001b[0m\u001b[0;34m\u001b[0m\u001b[0m\n\u001b[0m",
            "\u001b[0;31mAttributeError\u001b[0m: 'str' object has no attribute 'next'"
          ]
        }
      ]
    },
    {
      "cell_type": "markdown",
      "source": [
        " 12. (5б). Опишіть своїми словами в одному реченні, як ви розумієте різницю між ітерабельними обʼєктами та ітераторами (можна на прикладі)."
      ],
      "metadata": {
        "id": "XwtMEopwJ4pH"
      }
    },
    {
      "cell_type": "markdown",
      "source": [
        "\n",
        "Ітерабельні об'єкти - це контейнери, які можна перебирати, використовуючи цикл for чи інші ітераційні конструкції, тоді як ітератори - це об'єкти, які володіють станом та механізмом витягування наступного елемента ітерабельного об'єкта"
      ],
      "metadata": {
        "id": "-sHrODc3KFn8"
      }
    },
    {
      "cell_type": "markdown",
      "source": [
        "13. (11б). Створіть клас, що має визначений Iterator Protocol та при кожному виклику next повертає літери англійської абетки, поки вони не вичерпаються."
      ],
      "metadata": {
        "id": "E9qJWmNbK8Gl"
      }
    },
    {
      "cell_type": "code",
      "source": [
        "class AlphabetIterator:\n",
        "    def __init__(self):\n",
        "        self.current_char = ord('a')\n",
        "\n",
        "    def __iter__(self):\n",
        "        return self\n",
        "\n",
        "    def __next__(self):\n",
        "        if self.current_char <= ord('z'):\n",
        "            char = chr(self.current_char)\n",
        "            self.current_char += 1\n",
        "            return char\n",
        "        else:\n",
        "            raise StopIteration\n",
        "\n",
        "alphabet_iterator = AlphabetIterator()\n",
        "\n",
        "for _ in range(26):\n",
        "    print(next(alphabet_iterator))"
      ],
      "metadata": {
        "id": "cqx-g_RsLo6I",
        "colab": {
          "base_uri": "https://localhost:8080/"
        },
        "outputId": "207a7d9e-b09f-4298-bd45-bf168748e204"
      },
      "execution_count": 12,
      "outputs": [
        {
          "output_type": "stream",
          "name": "stdout",
          "text": [
            "a\n",
            "b\n",
            "c\n",
            "d\n",
            "e\n",
            "f\n",
            "g\n",
            "h\n",
            "i\n",
            "j\n",
            "k\n",
            "l\n",
            "m\n",
            "n\n",
            "o\n",
            "p\n",
            "q\n",
            "r\n",
            "s\n",
            "t\n",
            "u\n",
            "v\n",
            "w\n",
            "x\n",
            "y\n",
            "z\n"
          ]
        }
      ]
    },
    {
      "cell_type": "markdown",
      "source": [
        "# Вітаю! Ви велика(ий) молодець, що впоралась(вся). Похваліть себе та побалуйте чимось приємним. Я Вами пишаюся."
      ],
      "metadata": {
        "id": "Z3E3S_s1Fv7-"
      }
    }
  ]
}